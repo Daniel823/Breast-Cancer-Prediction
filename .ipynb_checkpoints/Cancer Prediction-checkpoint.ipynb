{
 "cells": [
  {
   "cell_type": "code",
   "execution_count": 58,
   "metadata": {
    "collapsed": false
   },
   "outputs": [
    {
     "name": "stdout",
     "output_type": "stream",
     "text": [
      "7689\n"
     ]
    }
   ],
   "source": [
    "import pandas as pd\n",
    "import os\n",
    "from sklearn.linear_model import SGDClassifier\n",
    "\n",
    "# Predicting Brest Cancer\n",
    "# Modeled by Daniel Glownia \n",
    "#\n",
    "# Source: University of Wisconsin, Clinical Sciences Center \n",
    "\n",
    "\n",
    "#Read the data from a file\n",
    "names = ['id',\n",
    "         'ClumpThickness',\n",
    "         'UniformityCellSize',\n",
    "         'UniformityCellShape',\n",
    "         'MarginalAdhesion',\n",
    "         'SingleEpithelialCellSize',\n",
    "         'BareNuclei',\n",
    "         'BlandChromatin',\n",
    "         'NormalNucleoli',\n",
    "         'Mitoses',\n",
    "         'Class'] #(2 for benign, 4 for malignant)\n",
    "df = pd.read_csv('./Data/DiagnosticWisconsinBreastCancerData.txt', header=None, names=names, sep=',')\n",
    "print(df.size)\n"
   ]
  },
  {
   "cell_type": "code",
   "execution_count": 31,
   "metadata": {
    "collapsed": false
   },
   "outputs": [],
   "source": [
    "#Divide the data into classes\n",
    "\n",
    "malignant = df[(df.Class == 4)]\n",
    "benign = df[(df.Class == 2)]"
   ]
  },
  {
   "cell_type": "code",
   "execution_count": 32,
   "metadata": {
    "collapsed": false
   },
   "outputs": [
    {
     "name": "stdout",
     "output_type": "stream",
     "text": [
      "id                          322232.308608\n",
      "ClumpThickness                   2.428849\n",
      "UniformityCellSize               2.719512\n",
      "UniformityCellShape              2.562045\n",
      "MarginalAdhesion                 3.210465\n",
      "SingleEpithelialCellSize         2.451606\n",
      "BlandChromatin                   2.273852\n",
      "NormalNucleoli                   3.350672\n",
      "Mitoses                          2.557939\n",
      "Class                            0.000000\n",
      "dtype: float64\n",
      "id                          723431.757966\n",
      "ClumpThickness                   1.674318\n",
      "UniformityCellSize               0.907694\n",
      "UniformityCellShape              0.997836\n",
      "MarginalAdhesion                 0.996830\n",
      "SingleEpithelialCellSize         0.917130\n",
      "BlandChromatin                   1.080339\n",
      "NormalNucleoli                   1.058856\n",
      "Mitoses                          0.501995\n",
      "Class                            0.000000\n",
      "dtype: float64\n"
     ]
    }
   ],
   "source": [
    "#std. div.\n",
    "print(malignant.std())\n",
    "print(benign.std())"
   ]
  },
  {
   "cell_type": "code",
   "execution_count": 33,
   "metadata": {
    "collapsed": false
   },
   "outputs": [
    {
     "name": "stdout",
     "output_type": "stream",
     "text": [
      "id                          1.038337e+11\n",
      "ClumpThickness              5.899308e+00\n",
      "UniformityCellSize          7.395747e+00\n",
      "UniformityCellShape         6.564073e+00\n",
      "MarginalAdhesion            1.030709e+01\n",
      "SingleEpithelialCellSize    6.010373e+00\n",
      "BlandChromatin              5.170401e+00\n",
      "NormalNucleoli              1.122701e+01\n",
      "Mitoses                     6.543050e+00\n",
      "Class                       0.000000e+00\n",
      "dtype: float64\n",
      "id                          5.233535e+11\n",
      "ClumpThickness              2.803341e+00\n",
      "UniformityCellSize          8.239085e-01\n",
      "UniformityCellShape         9.956762e-01\n",
      "MarginalAdhesion            9.936696e-01\n",
      "SingleEpithelialCellSize    8.411273e-01\n",
      "BlandChromatin              1.167133e+00\n",
      "NormalNucleoli              1.121177e+00\n",
      "Mitoses                     2.519995e-01\n",
      "Class                       0.000000e+00\n",
      "dtype: float64\n"
     ]
    }
   ],
   "source": [
    "#Variance \n",
    "print(malignant.var())\n",
    "print(benign.var())"
   ]
  },
  {
   "cell_type": "code",
   "execution_count": 45,
   "metadata": {
    "collapsed": false
   },
   "outputs": [],
   "source": [
    "#Transform the data"
   ]
  },
  {
   "cell_type": "code",
   "execution_count": 59,
   "metadata": {
    "collapsed": false
   },
   "outputs": [
    {
     "name": "stdout",
     "output_type": "stream",
     "text": [
      "<type 'numpy.int64'>\n"
     ]
    },
    {
     "ename": "NameError",
     "evalue": "name 'SGDClassifier' is not defined",
     "output_type": "error",
     "traceback": [
      "\u001b[0;31m---------------------------------------------------------------------------\u001b[0m",
      "\u001b[0;31mNameError\u001b[0m                                 Traceback (most recent call last)",
      "\u001b[0;32m<ipython-input-59-48185bc82012>\u001b[0m in \u001b[0;36m<module>\u001b[0;34m()\u001b[0m\n\u001b[1;32m      7\u001b[0m \u001b[0;32mprint\u001b[0m\u001b[0;34m(\u001b[0m\u001b[0mtype\u001b[0m\u001b[0;34m(\u001b[0m\u001b[0mX_train\u001b[0m\u001b[0;34m.\u001b[0m\u001b[0miloc\u001b[0m\u001b[0;34m[\u001b[0m\u001b[0;36m2\u001b[0m\u001b[0;34m,\u001b[0m\u001b[0;36m2\u001b[0m\u001b[0;34m]\u001b[0m\u001b[0;34m)\u001b[0m\u001b[0;34m)\u001b[0m\u001b[0;34m\u001b[0m\u001b[0m\n\u001b[1;32m      8\u001b[0m \u001b[0;34m\u001b[0m\u001b[0m\n\u001b[0;32m----> 9\u001b[0;31m \u001b[0mclf\u001b[0m \u001b[0;34m=\u001b[0m \u001b[0mSGDClassifier\u001b[0m\u001b[0;34m(\u001b[0m\u001b[0mloss\u001b[0m\u001b[0;34m=\u001b[0m\u001b[0;34m\"hinge\"\u001b[0m\u001b[0;34m,\u001b[0m \u001b[0mpenalty\u001b[0m\u001b[0;34m=\u001b[0m\u001b[0;34m\"l2\"\u001b[0m\u001b[0;34m)\u001b[0m\u001b[0;34m.\u001b[0m\u001b[0mfit\u001b[0m\u001b[0;34m(\u001b[0m\u001b[0mX_train\u001b[0m\u001b[0;34m,\u001b[0m \u001b[0my_train\u001b[0m\u001b[0;34m)\u001b[0m\u001b[0;34m\u001b[0m\u001b[0m\n\u001b[0m",
      "\u001b[0;31mNameError\u001b[0m: name 'SGDClassifier' is not defined"
     ]
    }
   ],
   "source": [
    "#Fit the model \n",
    "X_train, X_test, y_train, y_test = train_test_split(df.iloc[:,1:10], \n",
    "                                                   df.Class, \n",
    "                                                   test_size=0.4, \n",
    "                                                   random_state=0)\n",
    "\n",
    "print(type(X_train.iloc[2,2]))\n",
    "\n",
    "clf = SGDClassifier(loss=\"hinge\", penalty=\"l2\").fit(X_train, y_train)"
   ]
  },
  {
   "cell_type": "code",
   "execution_count": 49,
   "metadata": {
    "collapsed": false
   },
   "outputs": [],
   "source": [
    "#Calculate the percision and recall "
   ]
  },
  {
   "cell_type": "code",
   "execution_count": 37,
   "metadata": {
    "collapsed": false
   },
   "outputs": [
    {
     "data": {
      "text/plain": [
       "0.33333333333333331"
      ]
     },
     "execution_count": 37,
     "metadata": {},
     "output_type": "execute_result"
    }
   ],
   "source": [
    "from sklearn.metrics import precision_score\n",
    "y_true = [0, 1, 2, 0, 1, 2]\n",
    "y_pred = [0, 2, 1, 0, 0, 1] \n"
   ]
  }
 ],
 "metadata": {
  "kernelspec": {
   "display_name": "Python 2",
   "language": "python",
   "name": "python2"
  },
  "language_info": {
   "codemirror_mode": {
    "name": "ipython",
    "version": 2
   },
   "file_extension": ".py",
   "mimetype": "text/x-python",
   "name": "python",
   "nbconvert_exporter": "python",
   "pygments_lexer": "ipython2",
   "version": "2.7.13"
  }
 },
 "nbformat": 4,
 "nbformat_minor": 2
}
